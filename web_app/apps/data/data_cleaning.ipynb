{
 "cells": [
  {
   "cell_type": "code",
   "execution_count": 1,
   "metadata": {},
   "outputs": [],
   "source": [
    "import numpy as np\n",
    "import pandas as pd"
   ]
  },
  {
   "cell_type": "code",
   "execution_count": 2,
   "metadata": {
    "scrolled": false
   },
   "outputs": [],
   "source": [
    "df = pd.read_csv(\"../data/tatacrucible.csv\")"
   ]
  },
  {
   "cell_type": "code",
   "execution_count": 3,
   "metadata": {},
   "outputs": [],
   "source": [
    "# pd.to_datetime(df['DateTime'][0])\n",
    "df['DateTime'] = df['DateTime'].apply(pd.to_datetime)"
   ]
  },
  {
   "cell_type": "code",
   "execution_count": null,
   "metadata": {},
   "outputs": [],
   "source": []
  },
  {
   "cell_type": "code",
   "execution_count": 4,
   "metadata": {},
   "outputs": [],
   "source": [
    "df.to_csv(\"data.csv\", index=False)"
   ]
  },
  {
   "cell_type": "code",
   "execution_count": 5,
   "metadata": {},
   "outputs": [],
   "source": [
    "dates = list(df['Date'].unique())"
   ]
  },
  {
   "cell_type": "code",
   "execution_count": 6,
   "metadata": {},
   "outputs": [],
   "source": [
    "X = df[df['Date'] == dates[0]]['DateTime'].unique()"
   ]
  },
  {
   "cell_type": "code",
   "execution_count": 8,
   "metadata": {},
   "outputs": [
    {
     "data": {
      "text/html": [
       "<div>\n",
       "<style scoped>\n",
       "    .dataframe tbody tr th:only-of-type {\n",
       "        vertical-align: middle;\n",
       "    }\n",
       "\n",
       "    .dataframe tbody tr th {\n",
       "        vertical-align: top;\n",
       "    }\n",
       "\n",
       "    .dataframe thead th {\n",
       "        text-align: right;\n",
       "    }\n",
       "</style>\n",
       "<table border=\"1\" class=\"dataframe\">\n",
       "  <thead>\n",
       "    <tr style=\"text-align: right;\">\n",
       "      <th></th>\n",
       "      <th>DateTime</th>\n",
       "      <th>Date</th>\n",
       "      <th>pH</th>\n",
       "      <th>GlobalLightEnergy(W.m2)</th>\n",
       "      <th>Temp(C)</th>\n",
       "      <th>DO (mg.L)</th>\n",
       "      <th>DO (%sat)</th>\n",
       "      <th>Sal (g.L)</th>\n",
       "      <th>Protein.AF</th>\n",
       "      <th>FAME.Lipids.AF</th>\n",
       "      <th>Carbohydrates.AF</th>\n",
       "      <th>Harvest Vol (L)</th>\n",
       "      <th>AFDW (g/L)</th>\n",
       "      <th>AFDW (g)</th>\n",
       "    </tr>\n",
       "  </thead>\n",
       "  <tbody>\n",
       "    <tr>\n",
       "      <th>0</th>\n",
       "      <td>2014-09-10 08:44:00</td>\n",
       "      <td>09-10-2014</td>\n",
       "      <td>8.06</td>\n",
       "      <td>295.68</td>\n",
       "      <td>18.61</td>\n",
       "      <td>9.08</td>\n",
       "      <td>138</td>\n",
       "      <td>33.5</td>\n",
       "      <td>26.36</td>\n",
       "      <td>23.76</td>\n",
       "      <td>16.35</td>\n",
       "      <td>768.75</td>\n",
       "      <td>0.523333</td>\n",
       "      <td>402.312500</td>\n",
       "    </tr>\n",
       "    <tr>\n",
       "      <th>1</th>\n",
       "      <td>2014-09-10 08:58:00</td>\n",
       "      <td>09-10-2014</td>\n",
       "      <td>8.20</td>\n",
       "      <td>264.85</td>\n",
       "      <td>15.27</td>\n",
       "      <td>6.15</td>\n",
       "      <td>94</td>\n",
       "      <td>33.4</td>\n",
       "      <td>43.86</td>\n",
       "      <td>10.77</td>\n",
       "      <td>6.26</td>\n",
       "      <td>768.75</td>\n",
       "      <td>0.363333</td>\n",
       "      <td>279.312500</td>\n",
       "    </tr>\n",
       "    <tr>\n",
       "      <th>2</th>\n",
       "      <td>2014-09-10 09:14:00</td>\n",
       "      <td>09-10-2014</td>\n",
       "      <td>7.51</td>\n",
       "      <td>295.35</td>\n",
       "      <td>15.02</td>\n",
       "      <td>6.05</td>\n",
       "      <td>93</td>\n",
       "      <td>33.5</td>\n",
       "      <td>44.32</td>\n",
       "      <td>13.09</td>\n",
       "      <td>8.45</td>\n",
       "      <td>768.75</td>\n",
       "      <td>0.370000</td>\n",
       "      <td>284.437500</td>\n",
       "    </tr>\n",
       "    <tr>\n",
       "      <th>3</th>\n",
       "      <td>2014-09-10 09:29:00</td>\n",
       "      <td>09-10-2014</td>\n",
       "      <td>7.58</td>\n",
       "      <td>283.52</td>\n",
       "      <td>17.53</td>\n",
       "      <td>5.95</td>\n",
       "      <td>92</td>\n",
       "      <td>33.5</td>\n",
       "      <td>43.07</td>\n",
       "      <td>11.17</td>\n",
       "      <td>8.18</td>\n",
       "      <td>768.75</td>\n",
       "      <td>0.453333</td>\n",
       "      <td>348.500000</td>\n",
       "    </tr>\n",
       "    <tr>\n",
       "      <th>4</th>\n",
       "      <td>2014-09-10 09:43:00</td>\n",
       "      <td>09-10-2014</td>\n",
       "      <td>7.65</td>\n",
       "      <td>295.59</td>\n",
       "      <td>18.79</td>\n",
       "      <td>5.95</td>\n",
       "      <td>92</td>\n",
       "      <td>33.5</td>\n",
       "      <td>43.35</td>\n",
       "      <td>13.77</td>\n",
       "      <td>6.44</td>\n",
       "      <td>871.25</td>\n",
       "      <td>0.425556</td>\n",
       "      <td>370.765278</td>\n",
       "    </tr>\n",
       "    <tr>\n",
       "      <th>...</th>\n",
       "      <td>...</td>\n",
       "      <td>...</td>\n",
       "      <td>...</td>\n",
       "      <td>...</td>\n",
       "      <td>...</td>\n",
       "      <td>...</td>\n",
       "      <td>...</td>\n",
       "      <td>...</td>\n",
       "      <td>...</td>\n",
       "      <td>...</td>\n",
       "      <td>...</td>\n",
       "      <td>...</td>\n",
       "      <td>...</td>\n",
       "      <td>...</td>\n",
       "    </tr>\n",
       "    <tr>\n",
       "      <th>1933</th>\n",
       "      <td>2014-10-04 23:44:00</td>\n",
       "      <td>10-04-2014</td>\n",
       "      <td>7.92</td>\n",
       "      <td>250.95</td>\n",
       "      <td>23.82</td>\n",
       "      <td>5.34</td>\n",
       "      <td>74</td>\n",
       "      <td>36.3</td>\n",
       "      <td>37.31</td>\n",
       "      <td>13.34</td>\n",
       "      <td>30.82</td>\n",
       "      <td>512.50</td>\n",
       "      <td>0.103750</td>\n",
       "      <td>53.171875</td>\n",
       "    </tr>\n",
       "    <tr>\n",
       "      <th>1934</th>\n",
       "      <td>2014-10-04 23:58:00</td>\n",
       "      <td>10-04-2014</td>\n",
       "      <td>7.93</td>\n",
       "      <td>253.74</td>\n",
       "      <td>23.27</td>\n",
       "      <td>5.35</td>\n",
       "      <td>74</td>\n",
       "      <td>36.3</td>\n",
       "      <td>32.78</td>\n",
       "      <td>12.99</td>\n",
       "      <td>30.91</td>\n",
       "      <td>512.50</td>\n",
       "      <td>0.232222</td>\n",
       "      <td>119.013889</td>\n",
       "    </tr>\n",
       "    <tr>\n",
       "      <th>1935</th>\n",
       "      <td>2014-10-05 00:14:00</td>\n",
       "      <td>10-05-2014</td>\n",
       "      <td>7.91</td>\n",
       "      <td>250.34</td>\n",
       "      <td>23.91</td>\n",
       "      <td>5.40</td>\n",
       "      <td>74</td>\n",
       "      <td>36.3</td>\n",
       "      <td>31.56</td>\n",
       "      <td>13.76</td>\n",
       "      <td>35.60</td>\n",
       "      <td>1025.00</td>\n",
       "      <td>0.141667</td>\n",
       "      <td>145.208333</td>\n",
       "    </tr>\n",
       "    <tr>\n",
       "      <th>1936</th>\n",
       "      <td>2014-10-05 00:29:00</td>\n",
       "      <td>10-05-2014</td>\n",
       "      <td>7.81</td>\n",
       "      <td>251.09</td>\n",
       "      <td>24.65</td>\n",
       "      <td>5.42</td>\n",
       "      <td>74</td>\n",
       "      <td>36.3</td>\n",
       "      <td>34.27</td>\n",
       "      <td>9.67</td>\n",
       "      <td>33.11</td>\n",
       "      <td>358.75</td>\n",
       "      <td>0.488000</td>\n",
       "      <td>175.070000</td>\n",
       "    </tr>\n",
       "    <tr>\n",
       "      <th>1937</th>\n",
       "      <td>2014-10-05 00:43:00</td>\n",
       "      <td>10-05-2014</td>\n",
       "      <td>7.81</td>\n",
       "      <td>251.56</td>\n",
       "      <td>24.99</td>\n",
       "      <td>5.50</td>\n",
       "      <td>75</td>\n",
       "      <td>36.4</td>\n",
       "      <td>43.89</td>\n",
       "      <td>7.55</td>\n",
       "      <td>36.43</td>\n",
       "      <td>358.75</td>\n",
       "      <td>0.266667</td>\n",
       "      <td>95.666667</td>\n",
       "    </tr>\n",
       "  </tbody>\n",
       "</table>\n",
       "<p>1938 rows × 14 columns</p>\n",
       "</div>"
      ],
      "text/plain": [
       "                DateTime        Date    pH  GlobalLightEnergy(W.m2)  Temp(C)  \\\n",
       "0    2014-09-10 08:44:00  09-10-2014  8.06                   295.68    18.61   \n",
       "1    2014-09-10 08:58:00  09-10-2014  8.20                   264.85    15.27   \n",
       "2    2014-09-10 09:14:00  09-10-2014  7.51                   295.35    15.02   \n",
       "3    2014-09-10 09:29:00  09-10-2014  7.58                   283.52    17.53   \n",
       "4    2014-09-10 09:43:00  09-10-2014  7.65                   295.59    18.79   \n",
       "...                  ...         ...   ...                      ...      ...   \n",
       "1933 2014-10-04 23:44:00  10-04-2014  7.92                   250.95    23.82   \n",
       "1934 2014-10-04 23:58:00  10-04-2014  7.93                   253.74    23.27   \n",
       "1935 2014-10-05 00:14:00  10-05-2014  7.91                   250.34    23.91   \n",
       "1936 2014-10-05 00:29:00  10-05-2014  7.81                   251.09    24.65   \n",
       "1937 2014-10-05 00:43:00  10-05-2014  7.81                   251.56    24.99   \n",
       "\n",
       "      DO (mg.L)  DO (%sat)  Sal (g.L)  Protein.AF  FAME.Lipids.AF  \\\n",
       "0          9.08        138       33.5       26.36           23.76   \n",
       "1          6.15         94       33.4       43.86           10.77   \n",
       "2          6.05         93       33.5       44.32           13.09   \n",
       "3          5.95         92       33.5       43.07           11.17   \n",
       "4          5.95         92       33.5       43.35           13.77   \n",
       "...         ...        ...        ...         ...             ...   \n",
       "1933       5.34         74       36.3       37.31           13.34   \n",
       "1934       5.35         74       36.3       32.78           12.99   \n",
       "1935       5.40         74       36.3       31.56           13.76   \n",
       "1936       5.42         74       36.3       34.27            9.67   \n",
       "1937       5.50         75       36.4       43.89            7.55   \n",
       "\n",
       "      Carbohydrates.AF  Harvest Vol (L)  AFDW (g/L)    AFDW (g)  \n",
       "0                16.35           768.75    0.523333  402.312500  \n",
       "1                 6.26           768.75    0.363333  279.312500  \n",
       "2                 8.45           768.75    0.370000  284.437500  \n",
       "3                 8.18           768.75    0.453333  348.500000  \n",
       "4                 6.44           871.25    0.425556  370.765278  \n",
       "...                ...              ...         ...         ...  \n",
       "1933             30.82           512.50    0.103750   53.171875  \n",
       "1934             30.91           512.50    0.232222  119.013889  \n",
       "1935             35.60          1025.00    0.141667  145.208333  \n",
       "1936             33.11           358.75    0.488000  175.070000  \n",
       "1937             36.43           358.75    0.266667   95.666667  \n",
       "\n",
       "[1938 rows x 14 columns]"
      ]
     },
     "execution_count": 8,
     "metadata": {},
     "output_type": "execute_result"
    }
   ],
   "source": [
    "df"
   ]
  },
  {
   "cell_type": "code",
   "execution_count": 20,
   "metadata": {
    "scrolled": true
   },
   "outputs": [
    {
     "name": "stdout",
     "output_type": "stream",
     "text": [
      "15.89 74.21\n",
      "0.0 33.95\n",
      "1.5 41.33\n"
     ]
    }
   ],
   "source": [
    "print(df['Protein.AF'].min(), df['Protein.AF'].max())\n",
    "print(df['FAME.Lipids.AF'].min(), df['FAME.Lipids.AF'].max())\n",
    "print(df['Carbohydrates.AF'].min(), df['Carbohydrates.AF'].max())"
   ]
  },
  {
   "cell_type": "code",
   "execution_count": 23,
   "metadata": {},
   "outputs": [
    {
     "data": {
      "text/plain": [
       "654.77"
      ]
     },
     "execution_count": 23,
     "metadata": {},
     "output_type": "execute_result"
    }
   ],
   "source": [
    "df['GlobalLightEnergy(W.m2)'].max()"
   ]
  },
  {
   "cell_type": "code",
   "execution_count": 35,
   "metadata": {},
   "outputs": [
    {
     "data": {
      "text/plain": [
       "34.4"
      ]
     },
     "execution_count": 35,
     "metadata": {},
     "output_type": "execute_result"
    }
   ],
   "source": [
    "df['DO (mg.L)'].max()"
   ]
  },
  {
   "cell_type": "code",
   "execution_count": 30,
   "metadata": {},
   "outputs": [],
   "source": [
    "df['Temp(C)'] = df['Temp(C)'].apply(lambda x : x + 2.45)"
   ]
  },
  {
   "cell_type": "code",
   "execution_count": 38,
   "metadata": {},
   "outputs": [
    {
     "data": {
      "text/plain": [
       "40.86"
      ]
     },
     "execution_count": 38,
     "metadata": {},
     "output_type": "execute_result"
    }
   ],
   "source": [
    "df['Temp(C)'].max()"
   ]
  },
  {
   "cell_type": "code",
   "execution_count": null,
   "metadata": {},
   "outputs": [],
   "source": []
  }
 ],
 "metadata": {
  "kernelspec": {
   "display_name": "Python 3",
   "language": "python",
   "name": "python3"
  },
  "language_info": {
   "codemirror_mode": {
    "name": "ipython",
    "version": 3
   },
   "file_extension": ".py",
   "mimetype": "text/x-python",
   "name": "python",
   "nbconvert_exporter": "python",
   "pygments_lexer": "ipython3",
   "version": "3.8.2"
  },
  "toc": {
   "base_numbering": 1,
   "nav_menu": {},
   "number_sections": true,
   "sideBar": true,
   "skip_h1_title": false,
   "title_cell": "Table of Contents",
   "title_sidebar": "Contents",
   "toc_cell": false,
   "toc_position": {},
   "toc_section_display": true,
   "toc_window_display": false
  }
 },
 "nbformat": 4,
 "nbformat_minor": 4
}
